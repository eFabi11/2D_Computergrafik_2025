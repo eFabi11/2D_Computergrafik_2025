{
 "cells": [
  {
   "cell_type": "code",
   "execution_count": 1,
   "id": "1ba6f8c7",
   "metadata": {},
   "outputs": [],
   "source": [
    "import numpy as np \n",
    "import matplotlib.pyplot as plt\n",
    "import matplotlib.colors as mcolors\n",
    "from skimage import io\n",
    "import time"
   ]
  },
  {
   "cell_type": "code",
   "execution_count": 49,
   "id": "22462562",
   "metadata": {},
   "outputs": [
    {
     "data": {
      "image/png": "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",
      "text/plain": [
       "<Figure size 1000x1000 with 1 Axes>"
      ]
     },
     "metadata": {},
     "output_type": "display_data"
    }
   ],
   "source": [
    "#Bild auswaehlen, bei bild eins in zweiter Zelle umdrehen notwendig\n",
    "image = io.imread('regionen1.png')\n",
    "#Nur einen Kanal verwenden, da es ein Graustufenbild ist\n",
    "image = image[:, :, 0] \n",
    "#Bild in binaer umwandel\n",
    "image = np.where(image > 0, 1, 0)\n",
    "\n",
    "#Bild einmal wie eingelesen Darstellen\n",
    "plt.figure(figsize=(10, 10))\n",
    "plt.imshow(image, cmap='gray')\n",
    "plt.axis('off')\n",
    "plt.title('Regionen 1 Image')\n",
    "plt.show()"
   ]
  },
  {
   "cell_type": "code",
   "execution_count": 50,
   "id": "4c7eb585",
   "metadata": {},
   "outputs": [
    {
     "data": {
      "image/png": "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",
      "text/plain": [
       "<Figure size 1000x1000 with 1 Axes>"
      ]
     },
     "metadata": {},
     "output_type": "display_data"
    }
   ],
   "source": [
    "#Bild invertieren\n",
    "image = 1 - image\n",
    "#und darstellen\n",
    "plt.figure(figsize=(10, 10))\n",
    "plt.imshow(image, cmap='gray')\n",
    "plt.axis('off')\n",
    "plt.title('Inverted Regionen 1 Image')\n",
    "plt.show()"
   ]
  },
  {
   "cell_type": "code",
   "execution_count": 20,
   "id": "b58bf108",
   "metadata": {},
   "outputs": [],
   "source": [
    "#eigens entwickelte und selbstgeschriebene nur durch mich umsetzbare funktion zum anzeigen der bilder mit unterschiedlichen Farben\n",
    "def display_colored_image(image):\n",
    "    image = np.array(image)\n",
    "    unique_vals = np.unique(image)\n",
    "    \n",
    "    # Create a mapping from each unique value to an integer index\n",
    "    val_to_index = {val: i for i, val in enumerate(unique_vals)}\n",
    "    \n",
    "    # wer das liest ist doof\n",
    "    indexed_image = np.vectorize(val_to_index.get)(image)\n",
    "    \n",
    "    # Pick a colormap that supports many distinct colors\n",
    "    cmap = plt.get_cmap('nipy_spectral', len(unique_vals))  # e.g., 'nipy_spectral', 'hsv', 'tab20', 'turbo'\n",
    "    \n",
    "    # Show the image\n",
    "    plt.imshow(indexed_image, cmap=cmap)\n",
    "    plt.axis('off')\n",
    "    plt.show()"
   ]
  },
  {
   "cell_type": "code",
   "execution_count": null,
   "id": "7c51949f",
   "metadata": {},
   "outputs": [
    {
     "data": {
      "image/png": "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",
      "text/plain": [
       "<Figure size 640x480 with 1 Axes>"
      ]
     },
     "metadata": {},
     "output_type": "display_data"
    }
   ],
   "source": [
    "\n",
    "#funktion zum sequentiellen Labeln der Regionen\n",
    "def sequential_labelling(image):\n",
    "    #variable, die wenn gesetzt, die Ausgabe der einzelnen Schritte anzeigt\n",
    "    sequential_processing = 0\n",
    "    #start mit label eins groesser als vordergrund\n",
    "    label = 2\n",
    "    #set fuer die kolliisionen \n",
    "    collisions = set()\n",
    "    x, y = image.shape\n",
    "    #bild durchgehen\n",
    "    for v in range(1, x):\n",
    "        for u in range(1, y-1):\n",
    "            #wenn wir vordergrund gefunden haben\n",
    "            if image[v, u] == 1:\n",
    "                #schauen uns nachbarn an und schreiben sie in liste\n",
    "                neighbors = [\n",
    "                    image[v, u-1],     # links\n",
    "                    image[v-1, u-1],   # oben links\n",
    "                    image[v-1, u],     # oben\n",
    "                    image[v-1, u+1]    # oben mein gedankengut\n",
    "                ]\n",
    "                #jeden nachbar mit label in liste\n",
    "                labeled_neighbors = [n for n in neighbors if n > 1]\n",
    "                # zaehlen wie viele nachbarn wir schon mit label versehen haben\n",
    "                count = len(labeled_neighbors)\n",
    "                # wenn kein nachbar mit label dann\n",
    "                if count == 0:\n",
<<<<<<< HEAD
    "                    #from now on in english, since thats more fun set label to current label\n",
=======
    "                    #from now on in english, since thats more fun, set that pixel to the current next higher label\n",
>>>>>>> 99b3dfe2ed8f7cb9c44cd26fe00a6a53f86577bb
    "                    image[v, u] = label\n",
    "                    if (sequential_processing):\n",
    "                        display_colored_image(image)\n",
    "                        print(\"labeled \" + str(v) + \", \" + str(u) + \" with label \" + str(label) + \" with no neighbors\")\n",
    "                    #increase label for next foreground pixel\n",
    "                    label += 1\n",
    "\n",
    "                #If there is only one labeled neighbor\n",
    "                elif count == 1:\n",
    "                    # we set ourselves to label of already labeled neighbor\n",
    "                    image[v, u] = labeled_neighbors[0]\n",
    "                    if sequential_processing:\n",
    "                        display_colored_image(image)\n",
    "                        print(\"labeled \" + str(v) + \", \" + str(u) + \" with label \" + str(labeled_neighbors[0]) + \" with one neighbor\")\n",
    "                                \n",
    "                else:\n",
    "                    #in this case we have multiple neighbors with labels\n",
    "                    # Take the first label\n",
    "                    labeling = labeled_neighbors[0]\n",
    "                    # Set the current pixel to this label\n",
    "                    image[v, u] = labeling\n",
    "                    if sequential_processing:\n",
    "                        display_colored_image(image)\n",
    "                        print(\"labeled \" + str(v) + \", \" + str(u) + \" with label \" + str(labeling) + \" with multiple neighbors\")\n",
    "                    # Register collisions with all other labels\n",
    "                    for other_label in labeled_neighbors[1:]:\n",
    "                        if other_label != labeling:\n",
    "                            collisions.add((other_label, labeling))\n",
    "\n",
    "    #count the number of lables\n",
    "    unique_entries= np.unique(image)\n",
    "    #make list with sets of labels\n",
    "    labellings = [set([val]) for val in unique_entries]\n",
    "\n",
    "    # Merge sets for each collision\n",
    "    for a in collisions:\n",
    "        one = two = None\n",
    "        # Find the indices of the sets containing the collision labels\n",
    "        for j in range(len(labellings)):\n",
    "            if a[0] in labellings[j]:\n",
    "                one = j\n",
    "            if a[1] in labellings[j]:\n",
    "                two = j\n",
    "        # Only merge if both labels are found and indices are different\n",
    "        if one is not None and two is not None and one != two:\n",
    "            # Merge the sets\n",
    "            labellings[one] = labellings[one].union(labellings[two])\n",
    "            labellings.pop(two)\n",
    "         \n",
    "    #last step is to relabel the image, with lowest label in each set  \n",
    "    for v in range(x):\n",
    "        for u in range(y):\n",
    "            if image[v, u] > 1:\n",
    "                for i in range(len(labellings)):\n",
    "                    if image[v, u] in labellings[i]:\n",
    "                        image[v, u] = min(labellings[i])\n",
    "\n",
    "    \n",
    "\n",
    "\n",
    "                \n",
    "\n",
    "\n",
    "#copy image since ill otherwise get confused with ipynb \n",
    "copied_image = image.copy()\n",
    "sequential_labelling(copied_image)\n",
    "display_colored_image(copied_image)\n",
    "\n",
    "                    "
   ]
  }
 ],
 "metadata": {
  "kernelspec": {
   "display_name": "Python 3",
   "language": "python",
   "name": "python3"
  },
  "language_info": {
   "codemirror_mode": {
    "name": "ipython",
    "version": 3
   },
   "file_extension": ".py",
   "mimetype": "text/x-python",
   "name": "python",
   "nbconvert_exporter": "python",
   "pygments_lexer": "ipython3",
   "version": "3.13.3"
  }
 },
 "nbformat": 4,
 "nbformat_minor": 5
}
