{
 "cells": [
  {
   "cell_type": "code",
   "execution_count": 170,
   "id": "1ba6f8c7",
   "metadata": {},
   "outputs": [],
   "source": [
    "import numpy as np \n",
    "import matplotlib.pyplot as plt\n",
    "import matplotlib.colors as mcolors\n",
    "from skimage import io\n",
    "import time"
   ]
  },
  {
   "cell_type": "code",
   "execution_count": 221,
   "id": "22462562",
   "metadata": {},
   "outputs": [
    {
     "data": {
      "image/png": "[encoded data removed]",
      "text/plain": [
       "<Figure size 1000x1000 with 1 Axes>"
      ]
     },
     "metadata": {},
     "output_type": "display_data"
    }
   ],
   "source": [
    "image = io.imread('regionen1.png')\n",
    "\n",
    "plt.figure(figsize=(10, 10))\n",
    "plt.imshow(image, cmap='gray')\n",
    "plt.axis('off')\n",
    "plt.title('Regionen 1 Image')\n",
    "plt.show()"
   ]
  },
  {
   "cell_type": "code",
   "execution_count": 222,
   "id": "4c7eb585",
   "metadata": {},
   "outputs": [
    {
     "data": {
      "image/png": "[encoded data removed]",
      "text/plain": [
       "<Figure size 1000x1000 with 1 Axes>"
      ]
     },
     "metadata": {},
     "output_type": "display_data"
    }
   ],
   "source": [
    "image = image[:, :, 0] \n",
    "image = 255 - image\n",
    "image = np.where(image > 0, 1, 0)\n",
    "plt.figure(figsize=(10, 10))\n",
    "plt.imshow(image, cmap='gray')\n",
    "plt.axis('off')\n",
    "plt.title('Inverted Regionen 1 Image')\n",
    "plt.show()"
   ]
  },
  {
   "cell_type": "code",
   "execution_count": 145,
   "id": "b58bf108",
   "metadata": {},
   "outputs": [],
   "source": [
    "def display_colored_image(image):\n",
    "    image = np.array(image)\n",
    "    unique_vals = np.unique(image)\n",
    "    \n",
    "    # Create a mapping from each unique value to an integer index\n",
    "    val_to_index = {val: i for i, val in enumerate(unique_vals)}\n",
    "    \n",
    "    # Map the image values to indices\n",
    "    indexed_image = np.vectorize(val_to_index.get)(image)\n",
    "    \n",
    "    # Pick a colormap that supports many distinct colors\n",
    "    cmap = plt.get_cmap('tab20', len(unique_vals))  # e.g., 'nipy_spectral', 'hsv', 'tab20', 'turbo'\n",
    "    \n",
    "    # Show the image\n",
    "    plt.imshow(indexed_image, cmap=cmap)\n",
    "    plt.axis('off')\n",
    "    plt.show()"
   ]
  },
  {
   "cell_type": "code",
   "execution_count": null,
   "id": "7c51949f",
   "metadata": {},
   "outputs": [
    {
     "name": "stdout",
     "output_type": "stream",
     "text": [
      "48\n",
      "[{0}, {2}, {3}, {4}, {5}, {6}, {7}, {8}, {9}, {10}, {11}, {12}, {13}, {14}, {15}, {16}, {17}, {18}, {19}, {20}, {21}, {22}, {23}, {24}, {25}, {26}, {27}, {28}, {29}, {30}, {31}, {32}, {33}, {34}, {35}, {36}, {37}, {38}, {39}, {40}, {41}, {42}, {43}, {44}, {45}, {46}, {47}, {48}, {49}, {50}, {51}, {52}, {53}]\n",
      "[{0}, {16, 2, 3, 4, 18, 14}, {5, 6, 7, 8, 9, 10, 11, 12, 13, 15, 17, 19, 20, 21, 22, 23, 24, 25, 26, 27, 28, 29}, {30}, {31, 32, 33, 34, 35, 36, 37, 38, 39, 40, 41, 42, 43, 44, 45, 46, 47, 48, 49, 50, 51, 52, 53}]\n",
      "[{0}, {16, 2, 3, 4, 18, 14}, {5, 6, 7, 8, 9, 10, 11, 12, 13, 15, 17, 19, 20, 21, 22, 23, 24, 25, 26, 27, 28, 29}, {30}, {31, 32, 33, 34, 35, 36, 37, 38, 39, 40, 41, 42, 43, 44, 45, 46, 47, 48, 49, 50, 51, 52, 53}]\n"
     ]
    },
    {
     "data": {
      "image/png": "[encoded data removed]",
      "text/plain": [
       "<Figure size 640x480 with 1 Axes>"
      ]
     },
     "metadata": {},
     "output_type": "display_data"
    },
    {
     "name": "stdout",
     "output_type": "stream",
     "text": [
      "53\n",
      "53\n"
     ]
    }
   ],
   "source": [
    "\n",
    "\n",
    "def sequential_labelling(image):\n",
    "    sequential_processing = 0\n",
    "    label = 2\n",
    "    collisions = set()\n",
    "    x, y = image.shape\n",
    "    for v in range(x):\n",
    "        for u in range(y):\n",
    "            if image[v, u] == 1:\n",
    "                count = sum([\n",
    "                image[v-1, u] > 1,\n",
    "                image[v, u-1] > 1,\n",
    "                image[v, u+1] > 1,\n",
    "                image[v+1, u] > 1\n",
    "                ])\n",
    "                if count == 0:\n",
    "                    image[v, u] = label\n",
    "                    if (sequential_processing):\n",
    "                        display_colored_image(image)\n",
    "                        print(\"labeled \" + str(v) + \", \" + str(u) + \" with label \" + str(label) + \" with no neighbors\")\n",
    "                    label += 1\n",
    "\n",
    "                \n",
    "                elif count == 1:\n",
    "                    if image[v+1, u] > 1:\n",
    "                        image[v, u] = image[v+1, u]\n",
    "                        if (sequential_processing):\n",
    "                            display_colored_image(image)\n",
    "                            print(\"labeled \" + str(v) + \", \" + str(u) + \" with label \" + str(image[v+1, u]) + \" with one neighbors\")\n",
    "                    elif image[v-1, u] > 1:\n",
    "                        image[v, u] = image[v-1, u]\n",
    "                        if (sequential_processing):\n",
    "                            display_colored_image(image)\n",
    "                            print(\"labeled \" + str(v) + \", \" + str(u) + \" with label \" + str(image[v-1, u]) + \" with one neighbors\")\n",
    "                    elif image[v, u-1] > 1:\n",
    "                        image[v, u] = image[v, u-1]\n",
    "                        if (sequential_processing):\n",
    "                            display_colored_image(image)\n",
    "                            print(\"labeled \" + str(v) + \", \" + str(u) + \" with label \" + str(image[v, u-1]) + \" with one neighbors\")\n",
    "                    elif image[v, u+1] > 1:\n",
    "                        image[v, u] = image[v, u+1]\n",
    "                        if (sequential_processing):\n",
    "                            display_colored_image(image)\n",
    "                            print(\"labeled \" + str(v) + \", \" + str(u) + \" with label \" + str(image[v, u+1]) + \" with one neighbors\")\n",
    "                                \n",
    "                else:\n",
    "                    labeling = 0\n",
    "                    if image[v-1, u] > 1:\n",
    "                        image[v, u] = labeling = image[v-1, u]\n",
    "                        if (sequential_processing):\n",
    "                            display_colored_image(image)\n",
    "                            print(\"labeled \" + str(v) + \", \" + str(u) + \" with label \" + str(labeling) + \" with multiple neighbors\")\n",
    "                    elif image[v, u-1] > 1:\n",
    "                        image[v, u] = labeling = image[v, u-1]\n",
    "                        if (sequential_processing):\n",
    "                            display_colored_image(image)\n",
    "                            print(\"labeled \" + str(v) + \", \" + str(u) + \" with label \" + str(labeling) + \" with multiple neighbors\")\n",
    "                    elif image[v, u+1] > 1:\n",
    "                        image[v, u] = labeling = image[v, u+1]\n",
    "                        if (sequential_processing):\n",
    "                            display_colored_image(image)\n",
    "                            print(\"labeled \" + str(v) + \", \" + str(u) + \" with label \" + str(labeling) + \" with multiple neighbors\")\n",
    "                    if image[v, u-1] > 1 and image[v, u-1] != labeling:\n",
    "                        collisions.add((image[v, u-1], image[v, u]))\n",
    "                    if image[v, u+1] > 1 and image[v, u+1] != labeling:\n",
    "                        collisions.add((image[v, u+1], image[v, u]))\n",
    "                    if image[v+2, u] > 1 and image[v+2, u] != labeling:\n",
    "                        collisions.add((image[v+2, u], image[v, u]))\n",
    "\n",
    "\n",
    "    print(len(collisions))\n",
    "    unique_entries= np.unique(image)\n",
    "    labellings = list()\n",
    "    for i in range(len(unique_entries)):\n",
    "        a = set()\n",
    "        a.add(unique_entries[i])\n",
    "        labellings.append(a)\n",
    "    print(labellings)\n",
    "    for i in range(len(collisions)):\n",
    "        a = collisions.pop()\n",
    "        \n",
    "        for j in range(len(labellings)):\n",
    "            if a[0] in labellings[j]:\n",
    "                one = j\n",
    "            if a[1] in labellings[j]:\n",
    "                two = j\n",
    "        labellings[one] = labellings[one].union(labellings[two])\n",
    "        labellings.remove(labellings[two])\n",
    "\n",
    "    print(labellings)\n",
    "                \n",
    "    for v in range(x):\n",
    "        for u in range(y):\n",
    "            if image[v, u] > 1:\n",
    "                for i in range(len(labellings)):\n",
    "                    if image[v, u] in labellings[i]:\n",
    "                        image[v, u] = min(labellings[i])\n",
    "\n",
    "\n",
    "                \n",
    "\n",
    "\n",
    "\n",
    "copied_image = image.copy()\n",
    "sequential_labelling(copied_image)\n",
    "display_colored_image(copied_image)\n",
    "print(copied_image.max())\n",
    "#get unique entries of array copied_image\n",
    "unique_entries = np.unique(copied_image)\n",
    "print(unique_entries.size)\n",
    "                    "
   ]
  },
  {
   "cell_type": "code",
   "execution_count": null,
   "id": "45d33ac8",
   "metadata": {},
   "outputs": [],
   "source": [
    "print(\"labeled \" + v + \", \" + u + \" with label \" + str(label))\n",
    "time.sleep(200)"
   ]
  }
 ],
 "metadata": {
  "kernelspec": {
   "display_name": "base",
   "language": "python",
   "name": "python3"
  },
  "language_info": {
   "codemirror_mode": {
    "name": "ipython",
    "version": 3
   },
   "file_extension": ".py",
   "mimetype": "text/x-python",
   "name": "python",
   "nbconvert_exporter": "python",
   "pygments_lexer": "ipython3",
   "version": "3.11.5"
  }
 },
 "nbformat": 4,
 "nbformat_minor": 5
}
