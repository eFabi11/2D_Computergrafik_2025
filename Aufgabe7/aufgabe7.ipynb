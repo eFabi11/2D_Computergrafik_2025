{
 "cells": [
  {
   "cell_type": "code",
   "execution_count": 170,
   "id": "1ba6f8c7",
   "metadata": {},
   "outputs": [],
   "source": [
    "import numpy as np \n",
    "import matplotlib.pyplot as plt\n",
    "import matplotlib.colors as mcolors\n",
    "from skimage import io\n",
    "import time"
   ]
  },
  {
   "cell_type": "code",
   "execution_count": 246,
   "id": "22462562",
   "metadata": {},
   "outputs": [
    {
     "data": {
      "image/png": "[encoded data removed]",
      "text/plain": [
       "<Figure size 1000x1000 with 1 Axes>"
      ]
     },
     "metadata": {},
     "output_type": "display_data"
    }
   ],
   "source": [
    "image = io.imread('regionen2.png')\n",
    "image = image[:, :, 0] \n",
    "image = np.where(image > 0, 1, 0)\n",
    "\n",
    "\n",
    "\n",
    "plt.figure(figsize=(10, 10))\n",
    "plt.imshow(image, cmap='gray')\n",
    "plt.axis('off')\n",
    "plt.title('Regionen 1 Image')\n",
    "plt.show()"
   ]
  },
  {
   "cell_type": "code",
   "execution_count": null,
   "id": "4c7eb585",
   "metadata": {},
   "outputs": [
    {
     "data": {
      "image/png": "[encoded data removed]",
      "text/plain": [
       "<Figure size 1000x1000 with 1 Axes>"
      ]
     },
     "metadata": {},
     "output_type": "display_data"
    }
   ],
   "source": [
    "image = 1 - image\n",
    "plt.figure(figsize=(10, 10))\n",
    "plt.imshow(image, cmap='gray')\n",
    "plt.axis('off')\n",
    "plt.title('Inverted Regionen 1 Image')\n",
    "plt.show()"
   ]
  },
  {
   "cell_type": "code",
   "execution_count": 236,
   "id": "b58bf108",
   "metadata": {},
   "outputs": [],
   "source": [
    "def display_colored_image(image):\n",
    "    image = np.array(image)\n",
    "    unique_vals = np.unique(image)\n",
    "    \n",
    "    # Create a mapping from each unique value to an integer index\n",
    "    val_to_index = {val: i for i, val in enumerate(unique_vals)}\n",
    "    \n",
    "    # Map the image values to indices\n",
    "    indexed_image = np.vectorize(val_to_index.get)(image)\n",
    "    \n",
    "    # Pick a colormap that supports many distinct colors\n",
    "    cmap = plt.get_cmap('nipy_spectral', len(unique_vals))  # e.g., 'nipy_spectral', 'hsv', 'tab20', 'turbo'\n",
    "    \n",
    "    # Show the image\n",
    "    plt.imshow(indexed_image, cmap=cmap)\n",
    "    plt.axis('off')\n",
    "    plt.show()"
   ]
  },
  {
   "cell_type": "code",
   "execution_count": 247,
   "id": "7c51949f",
   "metadata": {},
   "outputs": [
    {
     "data": {
      "image/png": "[encoded data removed]",
      "text/plain": [
       "<Figure size 640x480 with 1 Axes>"
      ]
     },
     "metadata": {},
     "output_type": "display_data"
    }
   ],
   "source": [
    "\n",
    "\n",
    "def sequential_labelling(image):\n",
    "    sequential_processing = 0\n",
    "    label = 2\n",
    "    collisions = set()\n",
    "    x, y = image.shape\n",
    "    for v in range(x):\n",
    "        for u in range(y):\n",
    "            if image[v, u] == 1:\n",
    "                count = sum([\n",
    "                image[v-1, u] > 1,\n",
    "                image[v, u-1] > 1,\n",
    "                image[v, u+1] > 1,\n",
    "                image[v+1, u] > 1\n",
    "                ])\n",
    "                if count == 0:\n",
    "                    image[v, u] = label\n",
    "                    if (sequential_processing):\n",
    "                        display_colored_image(image)\n",
    "                        print(\"labeled \" + str(v) + \", \" + str(u) + \" with label \" + str(label) + \" with no neighbors\")\n",
    "                    label += 1\n",
    "\n",
    "                \n",
    "                elif count == 1:\n",
    "                    if image[v+1, u] > 1:\n",
    "                        image[v, u] = image[v+1, u]\n",
    "                        if (sequential_processing):\n",
    "                            display_colored_image(image)\n",
    "                            print(\"labeled \" + str(v) + \", \" + str(u) + \" with label \" + str(image[v+1, u]) + \" with one neighbors\")\n",
    "                    elif image[v-1, u] > 1:\n",
    "                        image[v, u] = image[v-1, u]\n",
    "                        if (sequential_processing):\n",
    "                            display_colored_image(image)\n",
    "                            print(\"labeled \" + str(v) + \", \" + str(u) + \" with label \" + str(image[v-1, u]) + \" with one neighbors\")\n",
    "                    elif image[v, u-1] > 1:\n",
    "                        image[v, u] = image[v, u-1]\n",
    "                        if (sequential_processing):\n",
    "                            display_colored_image(image)\n",
    "                            print(\"labeled \" + str(v) + \", \" + str(u) + \" with label \" + str(image[v, u-1]) + \" with one neighbors\")\n",
    "                    elif image[v, u+1] > 1:\n",
    "                        image[v, u] = image[v, u+1]\n",
    "                        if (sequential_processing):\n",
    "                            display_colored_image(image)\n",
    "                            print(\"labeled \" + str(v) + \", \" + str(u) + \" with label \" + str(image[v, u+1]) + \" with one neighbors\")\n",
    "                                \n",
    "                else:\n",
    "                    labeling = 0\n",
    "                    if image[v-1, u] > 1:\n",
    "                        image[v, u] = labeling = image[v-1, u]\n",
    "                        if (sequential_processing):\n",
    "                            display_colored_image(image)\n",
    "                            print(\"labeled \" + str(v) + \", \" + str(u) + \" with label \" + str(labeling) + \" with multiple neighbors\")\n",
    "                    elif image[v, u-1] > 1:\n",
    "                        image[v, u] = labeling = image[v, u-1]\n",
    "                        if (sequential_processing):\n",
    "                            display_colored_image(image)\n",
    "                            print(\"labeled \" + str(v) + \", \" + str(u) + \" with label \" + str(labeling) + \" with multiple neighbors\")\n",
    "                    elif image[v, u+1] > 1:\n",
    "                        image[v, u] = labeling = image[v, u+1]\n",
    "                        if (sequential_processing):\n",
    "                            display_colored_image(image)\n",
    "                            print(\"labeled \" + str(v) + \", \" + str(u) + \" with label \" + str(labeling) + \" with multiple neighbors\")\n",
    "                    if image[v, u-1] > 1 and image[v, u-1] != labeling:\n",
    "                        collisions.add((image[v, u-1], image[v, u]))\n",
    "                    if image[v, u+1] > 1 and image[v, u+1] != labeling:\n",
    "                        collisions.add((image[v, u+1], image[v, u]))\n",
    "                    if image[v+2, u] > 1 and image[v+2, u] != labeling:\n",
    "                        collisions.add((image[v+2, u], image[v, u]))\n",
    "\n",
    "\n",
    "    unique_entries= np.unique(image)\n",
    "    labellings = list()\n",
    "    for i in range(len(unique_entries)):\n",
    "        a = set()\n",
    "        a.add(unique_entries[i])\n",
    "        labellings.append(a)\n",
    "    for i in range(len(collisions)):\n",
    "        a = collisions.pop()\n",
    "        \n",
    "        for j in range(len(labellings)):\n",
    "            if a[0] in labellings[j]:\n",
    "                one = j\n",
    "            if a[1] in labellings[j]:\n",
    "                two = j\n",
    "        labellings[one] = labellings[one].union(labellings[two])\n",
    "        labellings.remove(labellings[two])\n",
    "\n",
    "                \n",
    "    for v in range(x):\n",
    "        for u in range(y):\n",
    "            if image[v, u] > 1:\n",
    "                for i in range(len(labellings)):\n",
    "                    if image[v, u] in labellings[i]:\n",
    "                        image[v, u] = min(labellings[i])\n",
    "\n",
    "    \n",
    "\n",
    "\n",
    "                \n",
    "\n",
    "\n",
    "\n",
    "copied_image = image.copy()\n",
    "sequential_labelling(copied_image)\n",
    "display_colored_image(copied_image)\n",
    "\n",
    "                    "
   ]
  }
 ],
 "metadata": {
  "kernelspec": {
   "display_name": "base",
   "language": "python",
   "name": "python3"
  },
  "language_info": {
   "codemirror_mode": {
    "name": "ipython",
    "version": 3
   },
   "file_extension": ".py",
   "mimetype": "text/x-python",
   "name": "python",
   "nbconvert_exporter": "python",
   "pygments_lexer": "ipython3",
   "version": "3.11.5"
  }
 },
 "nbformat": 4,
 "nbformat_minor": 5
}
