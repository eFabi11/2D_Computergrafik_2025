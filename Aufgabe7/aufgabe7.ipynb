{
 "cells": [
  {
   "cell_type": "code",
   "execution_count": 35,
   "id": "1ba6f8c7",
   "metadata": {},
   "outputs": [],
   "source": [
    "import numpy as np \n",
    "import matplotlib.pyplot as plt\n",
    "import matplotlib.colors as mcolors\n",
    "from skimage import io\n",
    "import time"
   ]
  },
  {
   "cell_type": "code",
   "execution_count": 36,
   "id": "22462562",
   "metadata": {},
   "outputs": [
    {
     "data": {
      "image/png": "[encoded data removed]",
      "text/plain": [
       "<Figure size 1000x1000 with 1 Axes>"
      ]
     },
     "metadata": {},
     "output_type": "display_data"
    }
   ],
   "source": [
    "#Bild auswaehlen, bei bild eins in zweiter Zelle umdrehen notwendig\n",
    "image = io.imread('regionen2.png')\n",
    "#Nur einen Kanal verwenden, da es ein Graustufenbild ist\n",
    "image = image[:, :, 0] \n",
    "#Bild in binaer umwandel\n",
    "image = np.where(image > 0, 1, 0)\n",
    "\n",
    "#Bild einmal wie eingelesen Darstellen\n",
    "plt.figure(figsize=(10, 10))\n",
    "plt.imshow(image, cmap='gray')\n",
    "plt.axis('off')\n",
    "plt.title('Regionen 1 Image')\n",
    "plt.show()"
   ]
  },
  {
   "cell_type": "code",
   "execution_count": 37,
   "id": "4c7eb585",
   "metadata": {},
   "outputs": [
    {
     "data": {
      "image/png": "[encoded data removed]",
      "text/plain": [
       "<Figure size 1000x1000 with 1 Axes>"
      ]
     },
     "metadata": {},
     "output_type": "display_data"
    }
   ],
   "source": [
    "#Bild invertieren\n",
    "#image = 1 - image\n",
    "#und darstellen\n",
    "plt.figure(figsize=(10, 10))\n",
    "plt.imshow(image, cmap='gray')\n",
    "plt.axis('off')\n",
    "plt.title('Inverted Regionen 1 Image')\n",
    "plt.show()"
   ]
  },
  {
   "cell_type": "code",
   "execution_count": 38,
   "id": "b58bf108",
   "metadata": {},
   "outputs": [],
   "source": [
    "#eigens entwickelte und selbstgeschriebene nur durch mich umsetzbare funktion zum anzeigen der bilder mit unterschiedlichen Farben\n",
    "def display_colored_image(image):\n",
    "    image = np.array(image)\n",
    "    unique_vals = np.unique(image)\n",
    "    \n",
    "    # Create a mapping from each unique value to an integer index\n",
    "    val_to_index = {val: i for i, val in enumerate(unique_vals)}\n",
    "    \n",
    "    # wer das liest ist doof\n",
    "    indexed_image = np.vectorize(val_to_index.get)(image)\n",
    "    \n",
    "    # Pick a colormap that supports many distinct colors\n",
    "    cmap = plt.get_cmap('nipy_spectral', len(unique_vals))  # e.g., 'nipy_spectral', 'hsv', 'tab20', 'turbo'\n",
    "    \n",
    "    # Show the image\n",
    "    plt.imshow(indexed_image, cmap=cmap)\n",
    "    plt.axis('off')\n",
    "    plt.show()"
   ]
  },
  {
   "cell_type": "code",
   "execution_count": 39,
   "id": "7c51949f",
   "metadata": {},
   "outputs": [
    {
     "data": {
      "image/png": "[encoded data removed]",
      "text/plain": [
       "<Figure size 640x480 with 1 Axes>"
      ]
     },
     "metadata": {},
     "output_type": "display_data"
    }
   ],
   "source": [
    "\n",
    "#funktion zum sequentiellen Labeln der Regionen\n",
    "def sequential_labelling(image):\n",
    "    #variable, die wenn gesetzt, die Ausgabe der einzelnen Schritte anzeigt\n",
    "    sequential_processing = 0\n",
    "    #start mit label eins groesser als vordergrund\n",
    "    label = 2\n",
    "    #set fuer die kolliisionen \n",
    "    collisions = set()\n",
    "    x, y = image.shape\n",
    "    #bild durchgehen\n",
    "    for v in range(1, x):\n",
    "        for u in range(1, y-1):\n",
    "            #wenn wir vordergrund gefunden haben\n",
    "            if image[v, u] == 1:\n",
    "                #schauen uns nachbarn an und schreiben sie in liste\n",
    "                neighbors = [\n",
    "                    image[v, u-1],     # links\n",
    "                    image[v-1, u-1],   # oben links\n",
    "                    image[v-1, u],     # oben\n",
    "                    image[v-1, u+1]    # oben mein gedankengut\n",
    "                ]\n",
    "                #jeden nachbar mit label in liste\n",
    "                labeled_neighbors = [n for n in neighbors if n > 1]\n",
    "                # zaehlen wie viele nachbarn wir schon mit label versehen haben\n",
    "                count = len(labeled_neighbors)\n",
    "                # wenn kein nachbar mit label dann\n",
    "                if count == 0:\n",
    "                    #from now on in english, since thats more fun set label to current label\n",
    "                    image[v, u] = label\n",
    "                    if (sequential_processing):\n",
    "                        display_colored_image(image)\n",
    "                        print(\"labeled \" + str(v) + \", \" + str(u) + \" with label \" + str(label) + \" with no neighbors\")\n",
    "                    #increase label for next foreground pixel\n",
    "                    label += 1\n",
    "\n",
    "                #If there is only one labeled neighbor\n",
    "                elif count == 1:\n",
    "                    # we set ourselves to label of already labeled neighbor\n",
    "                    image[v, u] = labeled_neighbors[0]\n",
    "                    if sequential_processing:\n",
    "                        display_colored_image(image)\n",
    "                        print(\"labeled \" + str(v) + \", \" + str(u) + \" with label \" + str(labeled_neighbors[0]) + \" with one neighbor\")\n",
    "                                \n",
    "                else:\n",
    "                    #in this case we have multiple neighbors with labels\n",
    "                    # Take the first label\n",
    "                    labeling = labeled_neighbors[0]\n",
    "                    # Set the current pixel to this label\n",
    "                    image[v, u] = labeling\n",
    "                    if sequential_processing:\n",
    "                        display_colored_image(image)\n",
    "                        print(\"labeled \" + str(v) + \", \" + str(u) + \" with label \" + str(labeling) + \" with multiple neighbors\")\n",
    "                    # Register collisions with all other labels\n",
    "                    for other_label in labeled_neighbors[1:]:\n",
    "                        if other_label != labeling:\n",
    "                            collisions.add((other_label, labeling))\n",
    "\n",
    "    #count the number of lables\n",
    "    unique_entries= np.unique(image)\n",
    "    #make list with sets of labels\n",
    "    labellings = [set([val]) for val in unique_entries]\n",
    "\n",
    "    # Merge sets for each collision\n",
    "    for a in collisions:\n",
    "        one = two = None\n",
    "        # Find the indices of the sets containing the collision labels\n",
    "        for j in range(len(labellings)):\n",
    "            if a[0] in labellings[j]:\n",
    "                one = j\n",
    "            if a[1] in labellings[j]:\n",
    "                two = j\n",
    "        # Only merge if both labels are found and indices are different\n",
    "        if one is not None and two is not None and one != two:\n",
    "            # Merge the sets\n",
    "            labellings[one] = labellings[one].union(labellings[two])\n",
    "            labellings.pop(two)\n",
    "         \n",
    "    #last step is to relabel the image, with lowest label in each set  \n",
    "    for v in range(x):\n",
    "        for u in range(y):\n",
    "            if image[v, u] > 1:\n",
    "                for i in range(len(labellings)):\n",
    "                    if image[v, u] in labellings[i]:\n",
    "                        image[v, u] = min(labellings[i])\n",
    "\n",
    "    \n",
    "\n",
    "\n",
    "                \n",
    "\n",
    "\n",
    "#copy image since ill otherwise get confused with ipynb \n",
    "copied_image = image.copy()\n",
    "sequential_labelling(copied_image)\n",
    "display_colored_image(copied_image)\n",
    "\n",
    "                    "
   ]
  }
 ],
 "metadata": {
  "kernelspec": {
   "display_name": "Python 3",
   "language": "python",
   "name": "python3"
  },
  "language_info": {
   "codemirror_mode": {
    "name": "ipython",
    "version": 3
   },
   "file_extension": ".py",
   "mimetype": "text/x-python",
   "name": "python",
   "nbconvert_exporter": "python",
   "pygments_lexer": "ipython3",
   "version": "3.12.6"
  }
 },
 "nbformat": 4,
 "nbformat_minor": 5
}
