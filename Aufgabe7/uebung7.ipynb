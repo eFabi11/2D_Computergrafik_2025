{
 "cells": [
  {
   "cell_type": "markdown",
   "id": "a8dd0de3",
   "metadata": {},
   "source": [
    "Aufgabe 7"
   ]
  },
  {
   "cell_type": "code",
   "execution_count": 24,
   "id": "bb79aa65",
   "metadata": {},
   "outputs": [
    {
     "data": {
      "image/png": "[encoded data removed]",
      "text/plain": [
       "<Figure size 640x480 with 1 Axes>"
      ]
     },
     "metadata": {},
     "output_type": "display_data"
    }
   ],
   "source": [
    "import numpy as np\n",
    "import matplotlib.pyplot as plt\n",
    "from skimage import io, color, filters\n",
    "from matplotlib.patches import Rectangle\n",
    "\n",
    "# 1) Bild einlesen + Graustufen\n",
    "image = io.imread('regionen1.png')\n",
    "if image.ndim == 3 and image.shape[-1] == 4:\n",
    "    image = image[..., :3]\n",
    "gray = color.rgb2gray(image)\n",
    "\n",
    "# 2) Otsu‐Threshold + Invert (schwarze Objekte = 1)\n",
    "th = filters.threshold_otsu(gray)\n",
    "binary = (gray < th).astype(np.uint8)\n",
    "\n",
    "plt.imshow(image)\n",
    "plt.show()"
   ]
  },
  {
   "cell_type": "markdown",
   "id": "d78c7490",
   "metadata": {},
   "source": [
    " Implementieren Sie die sequentielle Regionenmarkierung fur Binarbilder. Orientieren Sie\n",
    " sich bezuglich des Programmieransatzes an die Vorlesungsunterlagen (bzw. Buch Seite\n",
    " 202).\n",
    " • Fur den Vektor an Kollisionen und den Vektor an Labels konnen in Python jeweils\n",
    " eine Liste von Sets angelegt werden.\n",
    " Bsp. Set in Python: a = set(); a.add(2); a.remove(2)\n",
    " Bsp. Liste in Python: l = list(); l.append(a); l.remove(a)\n",
    " • Das Eingangsbild muss zunachst in Binarform gebracht werden. (Achtung: Vorder\n",
    "grund: 1 und Hintergrund: 0)"
   ]
  },
  {
   "cell_type": "code",
   "execution_count": 25,
   "id": "9b3088d5",
   "metadata": {},
   "outputs": [
    {
     "data": {
      "image/png": "[encoded data removed]",
      "text/plain": [
       "<Figure size 800x600 with 1 Axes>"
      ]
     },
     "metadata": {},
     "output_type": "display_data"
    }
   ],
   "source": [
    "def sequential_labeling(I):\n",
    "    H, W = I.shape\n",
    "    labeled = I.copy().astype(int)\n",
    "    m = 2\n",
    "    C = set()\n",
    "    def get_neighbors(u, v):\n",
    "        Ns = []\n",
    "        if v>0:\n",
    "            if u>0:    Ns.append(labeled[v-1,u-1])\n",
    "            Ns.append(labeled[v-1,u])\n",
    "            if u<W-1:  Ns.append(labeled[v-1,u+1])\n",
    "        if u>0:      Ns.append(labeled[v, u-1])\n",
    "        return Ns\n",
    "\n",
    "    # Pass 1\n",
    "    for v in range(H):\n",
    "        for u in range(W):\n",
    "            if I[v,u] == 1:\n",
    "                neigh = get_neighbors(u,v)\n",
    "                labs = [x for x in neigh if x>1]\n",
    "                if not labs:\n",
    "                    labeled[v,u] = m; m += 1\n",
    "                else:\n",
    "                    k = min(labs)\n",
    "                    labeled[v,u] = k\n",
    "                    for o in labs:\n",
    "                        if o!=k:\n",
    "                            C.add(tuple(sorted((o,k))))\n",
    "    # Pass 2\n",
    "    R = [ {i} for i in range(2, m) ]\n",
    "    def find_set(x):\n",
    "        for s in R:\n",
    "            if x in s: return s\n",
    "    for a,b in C:\n",
    "        Sa, Sb = find_set(a), find_set(b)\n",
    "        if Sa is not Sb:\n",
    "            Sa |= Sb\n",
    "            R.remove(Sb)\n",
    "    # Pass 3\n",
    "    for v in range(H):\n",
    "        for u in range(W):\n",
    "            if labeled[v,u]>1:\n",
    "                s = find_set(labeled[v,u])\n",
    "                labeled[v,u] = min(s)\n",
    "    return labeled\n",
    "\n",
    "labeled = sequential_labeling(binary)\n",
    "\n",
    "# 4) Bounding Boxes um jede Region\n",
    "labels = np.unique(labeled)\n",
    "labels = labels[labels>1]\n",
    "boxes = []\n",
    "for L in labels:\n",
    "    pts = np.argwhere(labeled==L)\n",
    "    r0, c0 = pts.min(axis=0)\n",
    "    r1, c1 = pts.max(axis=0)\n",
    "    boxes.append((c0, r0, c1, r1))\n",
    "\n",
    "# 5) Darstellung: reines SW + rote Kästen\n",
    "fig, ax = plt.subplots(figsize=(8,6))\n",
    "ax.imshow(binary, cmap='gray')\n",
    "for x0,y0,x1,y1 in boxes:\n",
    "    rect = Rectangle((x0,y0), x1-x0, y1-y0,\n",
    "                     edgecolor='red', facecolor='none', linewidth=1.5)\n",
    "    ax.add_patch(rect)\n",
    "ax.set_title(f\"{len(boxes)} Regionen mit Bounding Boxes\")\n",
    "ax.axis('off')\n",
    "plt.tight_layout()\n",
    "plt.show()"
   ]
  }
 ],
 "metadata": {
  "kernelspec": {
   "display_name": "Python 3",
   "language": "python",
   "name": "python3"
  },
  "language_info": {
   "codemirror_mode": {
    "name": "ipython",
    "version": 3
   },
   "file_extension": ".py",
   "mimetype": "text/x-python",
   "name": "python",
   "nbconvert_exporter": "python",
   "pygments_lexer": "ipython3",
   "version": "3.12.4"
  }
 },
 "nbformat": 4,
 "nbformat_minor": 5
}
