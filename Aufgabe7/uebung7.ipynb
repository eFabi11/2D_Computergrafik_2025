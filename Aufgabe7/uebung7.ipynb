{
 "cells": [
  {
   "cell_type": "markdown",
   "id": "a8dd0de3",
   "metadata": {},
   "source": [
    "Aufgabe 7"
   ]
  },
  {
   "cell_type": "code",
   "execution_count": 6,
   "id": "bb79aa65",
   "metadata": {},
   "outputs": [],
   "source": [
    "import numpy as np\n",
    "import matplotlib.pyplot as plt\n",
    "from skimage import io, color, filters\n",
    "from matplotlib.patches import Rectangle\n",
    "\n",
    "\n",
    "image = io.imread('regionen1.png')\n",
    "\n",
    "# RGBA → RGB, falls nötig\n",
    "if image.ndim == 3 and image.shape[-1] == 4:\n",
    "    image = image[..., :3]\n",
    "\n",
    "# Graustufen → Otsu-Threshold → invertierte Binärmaske\n",
    "gray = color.rgb2gray(image)\n",
    "th = filters.threshold_otsu(gray)\n",
    "binary_image = (gray < th).astype(np.uint8)\n"
   ]
  },
  {
   "cell_type": "markdown",
   "id": "d78c7490",
   "metadata": {},
   "source": [
    " Implementieren Sie die sequentielle Regionenmarkierung fur Binarbilder. Orientieren Sie\n",
    " sich bezuglich des Programmieransatzes an die Vorlesungsunterlagen (bzw. Buch Seite\n",
    " 202).\n",
    " • Fur den Vektor an Kollisionen und den Vektor an Labels konnen in Python jeweils\n",
    " eine Liste von Sets angelegt werden.\n",
    " Bsp. Set in Python: a = set(); a.add(2); a.remove(2)\n",
    " Bsp. Liste in Python: l = list(); l.append(a); l.remove(a)\n",
    " • Das Eingangsbild muss zunachst in Binarform gebracht werden. (Achtung: Vorder\n",
    "grund: 1 und Hintergrund: 0)"
   ]
  },
  {
   "cell_type": "code",
   "execution_count": null,
   "id": "9b3088d5",
   "metadata": {},
   "outputs": [
    {
     "data": {
      "image/png": "[encoded data removed]",
      "text/plain": [
       "<Figure size 800x600 with 1 Axes>"
      ]
     },
     "metadata": {},
     "output_type": "display_data"
    }
   ],
   "source": [
    "def sequential_labeling(I):\n",
    "    H, W = I.shape\n",
    "    \n",
    "    labeled = I.copy().astype(int)\n",
    "    \n",
    "   \n",
    "    m = 2\n",
    "    # Kollisionen als Menge von Paare (min, max)\n",
    "    C = set()\n",
    "    \n",
    "    # Nachbarn (8-Nachbarschaft, nur links/oben)\n",
    "    def get_neighbors(u, v):\n",
    "        Ns = []\n",
    "        if v > 0:\n",
    "            if u > 0:        Ns.append(labeled[v-1, u-1])  # oben-links\n",
    "            Ns.append(labeled[v-1, u])    # oben\n",
    "            if u < W-1:     Ns.append(labeled[v-1, u+1])  # oben-rechts\n",
    "        if u > 0:            Ns.append(labeled[v, u-1])  # links\n",
    "        return Ns\n",
    "    \n",
    "    # --- Pass 1: Assign Initial Labels + Kollisionen sammeln ---\n",
    "    for v in range(H):\n",
    "        for u in range(W):\n",
    "            if I[v, u] == 1:\n",
    "                neigh = get_neighbors(u, v)\n",
    "                labs = [n for n in neigh if n > 1]\n",
    "                \n",
    "                if not labs:\n",
    "                    # keine beschrifteten Nachbarn → neues Label\n",
    "                    labeled[v, u] = m\n",
    "                    m += 1\n",
    "                else:\n",
    "                    # mindestens ein beschrifteter Nachbar\n",
    "                    k = min(labs)\n",
    "                    labeled[v, u] = k\n",
    "                    # wenn mehrere verschiedene, Kollisionen merken\n",
    "                    for other in labs:\n",
    "                        if other != k:\n",
    "                            C.add(tuple(sorted((other, k))))\n",
    "    \n",
    "\n",
    "    R = [ {i} for i in range(2, m) ]\n",
    "    \n",
    "    # Hilfsfunktion: finde das Set, das ein Label enthält\n",
    "    def find_set(label):\n",
    "        for s in R:\n",
    "            if label in s:\n",
    "                return s\n",
    "        return None\n",
    "    \n",
    "    # Alle Kollisionen ⟨a,b⟩ abarbeiten\n",
    "    for a, b in C:\n",
    "        Sa = find_set(a)\n",
    "        Sb = find_set(b)\n",
    "        if Sa is not Sb:\n",
    "            # zusammenführen\n",
    "            Sa |= Sb\n",
    "            R.remove(Sb)\n",
    "    \n",
    "\n",
    "    for v in range(H):\n",
    "        for u in range(W):\n",
    "            if labeled[v, u] > 1:\n",
    "                S = find_set(labeled[v, u])\n",
    "                labeled[v, u] = min(S)\n",
    "    \n",
    "    return labeled\n",
    "\n",
    "# Labeling durchführen\n",
    "labeled_image = sequential_labeling(binary_image)\n",
    "\n",
    "\n",
    "labels = np.unique(labeled_image)\n",
    "labels = labels[labels > 1] \n",
    "\n",
    "boxes = []\n",
    "for L in labels:\n",
    "    pts = np.argwhere(labeled_image == L)\n",
    "    rmin, cmin = pts.min(axis=0)\n",
    "    rmax, cmax = pts.max(axis=0)\n",
    "    boxes.append((cmin, rmin, cmax, rmax))\n",
    "\n",
    "\n",
    "fig, ax = plt.subplots(figsize=(8, 6))\n",
    "ax.imshow(binary_image, cmap='gray')\n",
    "for (x1, y1, x2, y2) in boxes:\n",
    "    w, h = x2 - x1, y2 - y1\n",
    "    rect = Rectangle((x1, y1), w, h,\n",
    "                     edgecolor='red', facecolor='none', linewidth=1.5)\n",
    "    ax.add_patch(rect)\n",
    "\n",
    "ax.set_title(f\"{len(boxes)} Regionen mit Bounding Boxes\")\n",
    "ax.axis('off')\n",
    "plt.tight_layout()\n",
    "plt.show()"
   ]
  }
 ],
 "metadata": {
  "kernelspec": {
   "display_name": "Python 3",
   "language": "python",
   "name": "python3"
  },
  "language_info": {
   "codemirror_mode": {
    "name": "ipython",
    "version": 3
   },
   "file_extension": ".py",
   "mimetype": "text/x-python",
   "name": "python",
   "nbconvert_exporter": "python",
   "pygments_lexer": "ipython3",
   "version": "3.12.4"
  }
 },
 "nbformat": 4,
 "nbformat_minor": 5
}
