{
 "cells": [
  {
   "cell_type": "code",
   "execution_count": 1,
   "id": "f819b528",
   "metadata": {},
   "outputs": [],
   "source": [
    "import numpy as np\n",
    "from skimage import io, color, filters, morphology, feature, transform\n",
    "from skimage.transform import hough_circle, hough_circle_peaks, probabilistic_hough_line\n",
    "import math\n",
    "import matplotlib.pyplot as plt\n",
    "from matplotlib.patches import Rectangle\n",
    "from scipy.spatial.distance import euclidean\n",
    "from scipy.ndimage import convolve1d"
   ]
  },
  {
   "cell_type": "code",
   "execution_count": 2,
   "id": "8a33757c",
   "metadata": {},
   "outputs": [],
   "source": [
    "def load_and_preprocess(path, sigma=1.0, min_size=150):\n",
    "    img = io.imread(path)\n",
    "    # --- Alpha-Kanal entfernen, falls vorhanden ---\n",
    "    if img.ndim == 3 and img.shape[2] == 4:\n",
    "        # Variante A: einfach Alpha wegwerfen\n",
    "        img = img[..., :3]\n",
    "        # Oder Variante B: korrekt mischen\n",
    "        # from skimage.color import rgba2rgb\n",
    "        # img = rgba2rgb(img)\n",
    "\n",
    "    # in Float [0,1] umwandeln\n",
    "    img = img / 255.0 if img.dtype != np.float64 else img\n",
    "\n",
    "    # Graustufen\n",
    "    gray = color.rgb2gray(img)\n",
    "    # Rest wie gehabt\n",
    "    blurred = filters.gaussian(gray, sigma=sigma)\n",
    "    thresh  = filters.threshold_otsu(blurred)\n",
    "    binary  = blurred > thresh\n",
    "    clean   = morphology.remove_small_objects(binary, min_size=min_size)\n",
    "    return gray"
   ]
  },
  {
   "cell_type": "code",
   "execution_count": 3,
   "id": "9a664236",
   "metadata": {},
   "outputs": [
    {
     "data": {
      "image/png": "[encoded data removed]",
      "text/plain": [
       "<Figure size 640x480 with 1 Axes>"
      ]
     },
     "metadata": {},
     "output_type": "display_data"
    }
   ],
   "source": [
    "imgX = \"../Ordner_des_ungeordneten/x1.png\"\n",
    "imgO = \"../Ordner_des_ungeordneten/o1.png\"\n",
    "imgX = load_and_preprocess(imgX)\n",
    "imgO = load_and_preprocess(imgO)\n",
    "\n",
    "plt.imshow(imgX)\n",
    "plt.imshow(imgO)\n",
    "plt.show()"
   ]
  },
  {
   "cell_type": "code",
   "execution_count": 6,
   "id": "962774f6",
   "metadata": {},
   "outputs": [],
   "source": [
    "def harris_corners(I, H_px, H_py, H_dx, H_dy, H_bx, H_by, t_h, alpha=0.05, d_min=10):\n",
    "    # 1. Pre-Filter (Glättung)\n",
    "    I_smooth = convolve1d(I, H_px, axis=1)\n",
    "    I_smooth = convolve1d(I_smooth, H_py[:, 0], axis=0)\n",
    "\n",
    "    # 2. Ableitungen\n",
    "    I_x = convolve1d(I_smooth, H_dx[0], axis=1)\n",
    "    I_y = convolve1d(I_smooth, H_dy[:, 0], axis=0)\n",
    "\n",
    "    # 3. Strukturmatrix-Komponenten\n",
    "    A = I_x ** 2\n",
    "    B = I_y ** 2\n",
    "    C = I_x * I_y\n",
    "\n",
    "    A_bar = convolve1d(A, H_bx, axis=1)\n",
    "    A_bar = convolve1d(A_bar, H_by[:, 0], axis=0)\n",
    "\n",
    "    B_bar = convolve1d(B, H_bx, axis=1)\n",
    "    B_bar = convolve1d(B_bar, H_by[:, 0], axis=0)\n",
    "\n",
    "    C_bar = convolve1d(C, H_bx, axis=1)\n",
    "    C_bar = convolve1d(C_bar, H_by[:, 0], axis=0)\n",
    "\n",
    "    # 4. Corner-Response-Funktion\n",
    "    Q = (A_bar * B_bar - C_bar**2) - alpha * (A_bar + B_bar)**2\n",
    "\n",
    "    # 5. Lokale Maxima extrahieren\n",
    "    corners = []\n",
    "    h, w = Q.shape\n",
    "    for u in range(1, h - 1):\n",
    "        for v in range(1, w - 1):\n",
    "            if Q[u, v] > t_h and is_local_max(Q, u, v):\n",
    "                corners.append((u, v, Q[u, v]))\n",
    "\n",
    "    corners.sort(key=lambda x: x[2], reverse=True)\n",
    "    good_corners = cleanup_neighbors(corners, d_min)\n",
    "    return corners\n",
    "\n",
    "def is_local_max(Q, u, v):\n",
    "    q_c = Q[u, v]\n",
    "    neighborhood = Q[u-1:u+2, v-1:v+2]\n",
    "    return np.all(q_c >= neighborhood) and np.count_nonzero(q_c == neighborhood) == 1\n",
    "\n",
    "def cleanup_neighbors(corners, d_min):\n",
    "    good_corners = []\n",
    "    while corners:\n",
    "        c1 = corners.pop(0)\n",
    "        good_corners.append(c1)\n",
    "        corners = [c for c in corners if euclidean((c1[0], c1[1]), (c[0], c[1])) >= d_min]\n",
    "    return good_corners"
   ]
  },
  {
   "cell_type": "code",
   "execution_count": null,
   "id": "eb2e10a5",
   "metadata": {},
   "outputs": [
    {
     "ename": "TypeError",
     "evalue": "harris_corners() missing 1 required positional argument: 't_h'",
     "output_type": "error",
     "traceback": [
      "\u001b[31m---------------------------------------------------------------------------\u001b[39m",
      "\u001b[31mTypeError\u001b[39m                                 Traceback (most recent call last)",
      "\u001b[36mCell\u001b[39m\u001b[36m \u001b[39m\u001b[32mIn[8]\u001b[39m\u001b[32m, line 25\u001b[39m\n\u001b[32m     23\u001b[39m \u001b[38;5;28;01mfor\u001b[39;00m i \u001b[38;5;129;01min\u001b[39;00m \u001b[38;5;28mrange\u001b[39m (\u001b[32m1\u001b[39m,\u001b[32m6\u001b[39m):\n\u001b[32m     24\u001b[39m     imgx = load_and_preprocess(\u001b[33mf\u001b[39m\u001b[33m\"\u001b[39m\u001b[33m../Ordner_des_ungeordneten/x\u001b[39m\u001b[38;5;132;01m{\u001b[39;00mi\u001b[38;5;132;01m}\u001b[39;00m\u001b[33m.png\u001b[39m\u001b[33m\"\u001b[39m)\n\u001b[32m---> \u001b[39m\u001b[32m25\u001b[39m     counterx.append(\u001b[43mharris_corners\u001b[49m\u001b[43m(\u001b[49m\u001b[43mimgx\u001b[49m\u001b[43m,\u001b[49m\u001b[43m \u001b[49m\u001b[43mH_px\u001b[49m\u001b[43m,\u001b[49m\u001b[43m \u001b[49m\u001b[43mH_py\u001b[49m\u001b[43m,\u001b[49m\u001b[43m \u001b[49m\u001b[43mH_dx\u001b[49m\u001b[43m,\u001b[49m\u001b[43m \u001b[49m\u001b[43mH_dy\u001b[49m\u001b[43m,\u001b[49m\u001b[43m \u001b[49m\u001b[43mH_bx\u001b[49m\u001b[43m,\u001b[49m\u001b[43m \u001b[49m\u001b[43mH_by\u001b[49m\u001b[43m)\u001b[49m)\n\u001b[32m     26\u001b[39m     imgo = load_and_preprocess(\u001b[33mf\u001b[39m\u001b[33m\"\u001b[39m\u001b[33m../Ordner_des_ungeordneten/o\u001b[39m\u001b[38;5;132;01m{\u001b[39;00mi\u001b[38;5;132;01m}\u001b[39;00m\u001b[33m.png\u001b[39m\u001b[33m\"\u001b[39m)\n\u001b[32m     27\u001b[39m     countero.append(harris_corners(imgo, H_px, H_py, H_dx, H_dy, H_bx, H_by))\n",
      "\u001b[31mTypeError\u001b[39m: harris_corners() missing 1 required positional argument: 't_h'"
     ]
    }
   ],
   "source": [
    "import cv2\n",
    "\n",
    "x = []\n",
    "o = []\n",
    "counterx = []\n",
    "countero = []\n",
    "\n",
    "H_px = np.array([2, 5, 2]) / 9.0\n",
    "H_py = H_px.reshape(-1, 1)  # transponiert\n",
    "H_dx = np.array([[-0.453014, 0.0, 0.453014]])\n",
    "H_dy = H_dx.T\n",
    "H_bx = np.array([1, 6, 15, 20, 15, 6, 1]) / 64.0\n",
    "H_by = H_bx.reshape(-1, 1)\n",
    "\n",
    "\n",
    "#cornersX = harris_corners(img, H_px, H_py, H_dx, H_dy, H_bx, H_by, t_h=25000, alpha=0.05, d_min=10)\n",
    "#print(f\"Anzahl der erkannten Ecken X: {len(cornersX)}\")\n",
    "# Visualisierung\n",
    "#for u, v, q in cornersX:\n",
    " #   cv2.circle(imgX, (v, u), 2, (255, 0, 0), -1)\n",
    " \n",
    " \n",
    "for i in range (1,6):\n",
    "    imgx = load_and_preprocess(f\"../Ordner_des_ungeordneten/x{i}.png\")\n",
    "    counterx.append(harris_corners(imgx, H_px, H_py, H_dx, H_dy, H_bx, H_by, t_h=25000, alpha=0.05, d_min=10))\n",
    "    imgo = load_and_preprocess(f\"../Ordner_des_ungeordneten/o{i}.png\")\n",
    "    countero.append(harris_corners(imgo, H_px, H_py, H_dx, H_dy, H_bx, H_by, t_h=25000, alpha=0.05, d_min=10))\n",
    "    \n",
    "print(f\"Anzahl der erkannten Ecken X: {counterx}\")\n",
    "print(f\"Anzahl der erkannten Ecken O: {countero}\")\n",
    "\n",
    "\n",
    "\n",
    "#cv2.imshow(\"Harris Corners\", imgX)\n",
    "#cv2.imshow(\"Harris Corners\", imgO)\n",
    "#cv2.waitKey(0)\n",
    "#cv2.destroyAllWindows()\n"
   ]
  }
 ],
 "metadata": {
  "kernelspec": {
   "display_name": "Python 3",
   "language": "python",
   "name": "python3"
  },
  "language_info": {
   "codemirror_mode": {
    "name": "ipython",
    "version": 3
   },
   "file_extension": ".py",
   "mimetype": "text/x-python",
   "name": "python",
   "nbconvert_exporter": "python",
   "pygments_lexer": "ipython3",
   "version": "3.12.6"
  }
 },
 "nbformat": 4,
 "nbformat_minor": 5
}
