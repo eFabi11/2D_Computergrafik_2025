{
 "cells": [
  {
   "cell_type": "markdown",
   "id": "cd2e9c39",
   "metadata": {},
   "source": [
    "Tic Tac Toe Spielstanderkenner"
   ]
  },
  {
   "cell_type": "markdown",
   "id": "bcdcc4de",
   "metadata": {},
   "source": [
    "Ziel dieser Arbeit ist es, dass Bilder eines Tic Tac Toe Spiels eingegeben werden und der Spielstand automatisch erkannt wird. Wenn es einen Gewinner gibt, soll dieser Markiert und ausgegeben werden"
   ]
  },
  {
   "cell_type": "markdown",
   "id": "002ff715",
   "metadata": {},
   "source": [
    "Schritt 1 Bilder einlesen"
   ]
  },
  {
   "cell_type": "code",
   "execution_count": 1,
   "id": "ad8e37b9",
   "metadata": {},
   "outputs": [
    {
     "ename": "FileNotFoundError",
     "evalue": "No such file: 'c:\\Users\\wiebk\\OneDrive\\Dokumente\\Studium\\Konstanz\\Sem_7\\2D\\Übung\\2D_Computergrafik_2025\\Abschlussprojekt_Tic_Tac_Toe\\O_1.png'",
     "output_type": "error",
     "traceback": [
      "\u001b[31m---------------------------------------------------------------------------\u001b[39m",
      "\u001b[31mFileNotFoundError\u001b[39m                         Traceback (most recent call last)",
      "\u001b[36mCell\u001b[39m\u001b[36m \u001b[39m\u001b[32mIn[1]\u001b[39m\u001b[32m, line 119\u001b[39m\n\u001b[32m    116\u001b[39m     plt.show()\n\u001b[32m    118\u001b[39m \u001b[38;5;28;01mif\u001b[39;00m \u001b[34m__name__\u001b[39m == \u001b[33m\"\u001b[39m\u001b[33m__main__\u001b[39m\u001b[33m\"\u001b[39m:\n\u001b[32m--> \u001b[39m\u001b[32m119\u001b[39m     \u001b[43mdetect_and_draw\u001b[49m\u001b[43m(\u001b[49m\u001b[33;43m\"\u001b[39;49m\u001b[33;43mO_1.png\u001b[39;49m\u001b[33;43m\"\u001b[39;49m\u001b[43m)\u001b[49m\n",
      "\u001b[36mCell\u001b[39m\u001b[36m \u001b[39m\u001b[32mIn[1]\u001b[39m\u001b[32m, line 77\u001b[39m, in \u001b[36mdetect_and_draw\u001b[39m\u001b[34m(path)\u001b[39m\n\u001b[32m     76\u001b[39m \u001b[38;5;28;01mdef\u001b[39;00m\u001b[38;5;250m \u001b[39m\u001b[34mdetect_and_draw\u001b[39m(path):\n\u001b[32m---> \u001b[39m\u001b[32m77\u001b[39m     img, binary = \u001b[43mload_and_preprocess\u001b[49m\u001b[43m(\u001b[49m\u001b[43mpath\u001b[49m\u001b[43m)\u001b[49m\n\u001b[32m     78\u001b[39m     circles = detect_Os(binary)\n\u001b[32m     79\u001b[39m     crosses = detect_Xs(binary)\n",
      "\u001b[36mCell\u001b[39m\u001b[36m \u001b[39m\u001b[32mIn[1]\u001b[39m\u001b[32m, line 10\u001b[39m, in \u001b[36mload_and_preprocess\u001b[39m\u001b[34m(path, sigma, min_size)\u001b[39m\n\u001b[32m      9\u001b[39m \u001b[38;5;28;01mdef\u001b[39;00m\u001b[38;5;250m \u001b[39m\u001b[34mload_and_preprocess\u001b[39m(path, sigma=\u001b[32m1.0\u001b[39m, min_size=\u001b[32m150\u001b[39m):\n\u001b[32m---> \u001b[39m\u001b[32m10\u001b[39m     img = \u001b[43mio\u001b[49m\u001b[43m.\u001b[49m\u001b[43mimread\u001b[49m\u001b[43m(\u001b[49m\u001b[43mpath\u001b[49m\u001b[43m)\u001b[49m\n\u001b[32m     11\u001b[39m     \u001b[38;5;66;03m# --- Alpha-Kanal entfernen, falls vorhanden ---\u001b[39;00m\n\u001b[32m     12\u001b[39m     \u001b[38;5;28;01mif\u001b[39;00m img.ndim == \u001b[32m3\u001b[39m \u001b[38;5;129;01mand\u001b[39;00m img.shape[\u001b[32m2\u001b[39m] == \u001b[32m4\u001b[39m:\n\u001b[32m     13\u001b[39m         \u001b[38;5;66;03m# Variante A: einfach Alpha wegwerfen\u001b[39;00m\n",
      "\u001b[36mFile \u001b[39m\u001b[32m~\\AppData\\Roaming\\Python\\Python312\\site-packages\\skimage\\_shared\\utils.py:328\u001b[39m, in \u001b[36mdeprecate_parameter.__call__.<locals>.fixed_func\u001b[39m\u001b[34m(*args, **kwargs)\u001b[39m\n\u001b[32m    324\u001b[39m     \u001b[38;5;28;01melif\u001b[39;00m \u001b[38;5;28mself\u001b[39m.new_name \u001b[38;5;129;01mis\u001b[39;00m \u001b[38;5;129;01mnot\u001b[39;00m \u001b[38;5;28;01mNone\u001b[39;00m:\n\u001b[32m    325\u001b[39m         \u001b[38;5;66;03m# Assign old value to new one\u001b[39;00m\n\u001b[32m    326\u001b[39m         kwargs[\u001b[38;5;28mself\u001b[39m.new_name] = deprecated_value\n\u001b[32m--> \u001b[39m\u001b[32m328\u001b[39m \u001b[38;5;28;01mreturn\u001b[39;00m \u001b[43mfunc\u001b[49m\u001b[43m(\u001b[49m\u001b[43m*\u001b[49m\u001b[43margs\u001b[49m\u001b[43m,\u001b[49m\u001b[43m \u001b[49m\u001b[43m*\u001b[49m\u001b[43m*\u001b[49m\u001b[43mkwargs\u001b[49m\u001b[43m)\u001b[49m\n",
      "\u001b[36mFile \u001b[39m\u001b[32m~\\AppData\\Roaming\\Python\\Python312\\site-packages\\skimage\\io\\_io.py:82\u001b[39m, in \u001b[36mimread\u001b[39m\u001b[34m(fname, as_gray, plugin, **plugin_args)\u001b[39m\n\u001b[32m     79\u001b[39m         plugin = \u001b[33m'\u001b[39m\u001b[33mtifffile\u001b[39m\u001b[33m'\u001b[39m\n\u001b[32m     81\u001b[39m \u001b[38;5;28;01mwith\u001b[39;00m file_or_url_context(fname) \u001b[38;5;28;01mas\u001b[39;00m fname, _hide_plugin_deprecation_warnings():\n\u001b[32m---> \u001b[39m\u001b[32m82\u001b[39m     img = \u001b[43mcall_plugin\u001b[49m\u001b[43m(\u001b[49m\u001b[33;43m'\u001b[39;49m\u001b[33;43mimread\u001b[39;49m\u001b[33;43m'\u001b[39;49m\u001b[43m,\u001b[49m\u001b[43m \u001b[49m\u001b[43mfname\u001b[49m\u001b[43m,\u001b[49m\u001b[43m \u001b[49m\u001b[43mplugin\u001b[49m\u001b[43m=\u001b[49m\u001b[43mplugin\u001b[49m\u001b[43m,\u001b[49m\u001b[43m \u001b[49m\u001b[43m*\u001b[49m\u001b[43m*\u001b[49m\u001b[43mplugin_args\u001b[49m\u001b[43m)\u001b[49m\n\u001b[32m     84\u001b[39m \u001b[38;5;28;01mif\u001b[39;00m \u001b[38;5;129;01mnot\u001b[39;00m \u001b[38;5;28mhasattr\u001b[39m(img, \u001b[33m'\u001b[39m\u001b[33mndim\u001b[39m\u001b[33m'\u001b[39m):\n\u001b[32m     85\u001b[39m     \u001b[38;5;28;01mreturn\u001b[39;00m img\n",
      "\u001b[36mFile \u001b[39m\u001b[32m~\\AppData\\Roaming\\Python\\Python312\\site-packages\\skimage\\_shared\\utils.py:538\u001b[39m, in \u001b[36mdeprecate_func.__call__.<locals>.wrapped\u001b[39m\u001b[34m(*args, **kwargs)\u001b[39m\n\u001b[32m    536\u001b[39m stacklevel = \u001b[32m1\u001b[39m + \u001b[38;5;28mself\u001b[39m.get_stack_length(func) - stack_rank\n\u001b[32m    537\u001b[39m warnings.warn(message, category=\u001b[38;5;167;01mFutureWarning\u001b[39;00m, stacklevel=stacklevel)\n\u001b[32m--> \u001b[39m\u001b[32m538\u001b[39m \u001b[38;5;28;01mreturn\u001b[39;00m \u001b[43mfunc\u001b[49m\u001b[43m(\u001b[49m\u001b[43m*\u001b[49m\u001b[43margs\u001b[49m\u001b[43m,\u001b[49m\u001b[43m \u001b[49m\u001b[43m*\u001b[49m\u001b[43m*\u001b[49m\u001b[43mkwargs\u001b[49m\u001b[43m)\u001b[49m\n",
      "\u001b[36mFile \u001b[39m\u001b[32m~\\AppData\\Roaming\\Python\\Python312\\site-packages\\skimage\\io\\manage_plugins.py:254\u001b[39m, in \u001b[36mcall_plugin\u001b[39m\u001b[34m(kind, *args, **kwargs)\u001b[39m\n\u001b[32m    251\u001b[39m     \u001b[38;5;28;01mexcept\u001b[39;00m \u001b[38;5;167;01mIndexError\u001b[39;00m:\n\u001b[32m    252\u001b[39m         \u001b[38;5;28;01mraise\u001b[39;00m \u001b[38;5;167;01mRuntimeError\u001b[39;00m(\u001b[33mf\u001b[39m\u001b[33m'\u001b[39m\u001b[33mCould not find the plugin \u001b[39m\u001b[33m\"\u001b[39m\u001b[38;5;132;01m{\u001b[39;00mplugin\u001b[38;5;132;01m}\u001b[39;00m\u001b[33m\"\u001b[39m\u001b[33m for \u001b[39m\u001b[38;5;132;01m{\u001b[39;00mkind\u001b[38;5;132;01m}\u001b[39;00m\u001b[33m.\u001b[39m\u001b[33m'\u001b[39m)\n\u001b[32m--> \u001b[39m\u001b[32m254\u001b[39m \u001b[38;5;28;01mreturn\u001b[39;00m \u001b[43mfunc\u001b[49m\u001b[43m(\u001b[49m\u001b[43m*\u001b[49m\u001b[43margs\u001b[49m\u001b[43m,\u001b[49m\u001b[43m \u001b[49m\u001b[43m*\u001b[49m\u001b[43m*\u001b[49m\u001b[43mkwargs\u001b[49m\u001b[43m)\u001b[49m\n",
      "\u001b[36mFile \u001b[39m\u001b[32m~\\AppData\\Roaming\\Python\\Python312\\site-packages\\skimage\\io\\_plugins\\imageio_plugin.py:11\u001b[39m, in \u001b[36mimread\u001b[39m\u001b[34m(*args, **kwargs)\u001b[39m\n\u001b[32m      9\u001b[39m \u001b[38;5;129m@wraps\u001b[39m(imageio_imread)\n\u001b[32m     10\u001b[39m \u001b[38;5;28;01mdef\u001b[39;00m\u001b[38;5;250m \u001b[39m\u001b[34mimread\u001b[39m(*args, **kwargs):\n\u001b[32m---> \u001b[39m\u001b[32m11\u001b[39m     out = np.asarray(\u001b[43mimageio_imread\u001b[49m\u001b[43m(\u001b[49m\u001b[43m*\u001b[49m\u001b[43margs\u001b[49m\u001b[43m,\u001b[49m\u001b[43m \u001b[49m\u001b[43m*\u001b[49m\u001b[43m*\u001b[49m\u001b[43mkwargs\u001b[49m\u001b[43m)\u001b[49m)\n\u001b[32m     12\u001b[39m     \u001b[38;5;28;01mif\u001b[39;00m \u001b[38;5;129;01mnot\u001b[39;00m out.flags[\u001b[33m'\u001b[39m\u001b[33mWRITEABLE\u001b[39m\u001b[33m'\u001b[39m]:\n\u001b[32m     13\u001b[39m         out = out.copy()\n",
      "\u001b[36mFile \u001b[39m\u001b[32m~\\AppData\\Roaming\\Python\\Python312\\site-packages\\imageio\\v3.py:53\u001b[39m, in \u001b[36mimread\u001b[39m\u001b[34m(uri, index, plugin, extension, format_hint, **kwargs)\u001b[39m\n\u001b[32m     50\u001b[39m \u001b[38;5;28;01mif\u001b[39;00m index \u001b[38;5;129;01mis\u001b[39;00m \u001b[38;5;129;01mnot\u001b[39;00m \u001b[38;5;28;01mNone\u001b[39;00m:\n\u001b[32m     51\u001b[39m     call_kwargs[\u001b[33m\"\u001b[39m\u001b[33mindex\u001b[39m\u001b[33m\"\u001b[39m] = index\n\u001b[32m---> \u001b[39m\u001b[32m53\u001b[39m \u001b[38;5;28;01mwith\u001b[39;00m \u001b[43mimopen\u001b[49m\u001b[43m(\u001b[49m\u001b[43muri\u001b[49m\u001b[43m,\u001b[49m\u001b[43m \u001b[49m\u001b[33;43m\"\u001b[39;49m\u001b[33;43mr\u001b[39;49m\u001b[33;43m\"\u001b[39;49m\u001b[43m,\u001b[49m\u001b[43m \u001b[49m\u001b[43m*\u001b[49m\u001b[43m*\u001b[49m\u001b[43mplugin_kwargs\u001b[49m\u001b[43m)\u001b[49m \u001b[38;5;28;01mas\u001b[39;00m img_file:\n\u001b[32m     54\u001b[39m     \u001b[38;5;28;01mreturn\u001b[39;00m np.asarray(img_file.read(**call_kwargs))\n",
      "\u001b[36mFile \u001b[39m\u001b[32m~\\AppData\\Roaming\\Python\\Python312\\site-packages\\imageio\\core\\imopen.py:113\u001b[39m, in \u001b[36mimopen\u001b[39m\u001b[34m(uri, io_mode, plugin, extension, format_hint, legacy_mode, **kwargs)\u001b[39m\n\u001b[32m    111\u001b[39m     request.format_hint = format_hint\n\u001b[32m    112\u001b[39m \u001b[38;5;28;01melse\u001b[39;00m:\n\u001b[32m--> \u001b[39m\u001b[32m113\u001b[39m     request = \u001b[43mRequest\u001b[49m\u001b[43m(\u001b[49m\u001b[43muri\u001b[49m\u001b[43m,\u001b[49m\u001b[43m \u001b[49m\u001b[43mio_mode\u001b[49m\u001b[43m,\u001b[49m\u001b[43m \u001b[49m\u001b[43mformat_hint\u001b[49m\u001b[43m=\u001b[49m\u001b[43mformat_hint\u001b[49m\u001b[43m,\u001b[49m\u001b[43m \u001b[49m\u001b[43mextension\u001b[49m\u001b[43m=\u001b[49m\u001b[43mextension\u001b[49m\u001b[43m)\u001b[49m\n\u001b[32m    115\u001b[39m source = \u001b[33m\"\u001b[39m\u001b[33m<bytes>\u001b[39m\u001b[33m\"\u001b[39m \u001b[38;5;28;01mif\u001b[39;00m \u001b[38;5;28misinstance\u001b[39m(uri, \u001b[38;5;28mbytes\u001b[39m) \u001b[38;5;28;01melse\u001b[39;00m uri\n\u001b[32m    117\u001b[39m \u001b[38;5;66;03m# fast-path based on plugin\u001b[39;00m\n\u001b[32m    118\u001b[39m \u001b[38;5;66;03m# (except in legacy mode)\u001b[39;00m\n",
      "\u001b[36mFile \u001b[39m\u001b[32m~\\AppData\\Roaming\\Python\\Python312\\site-packages\\imageio\\core\\request.py:249\u001b[39m, in \u001b[36mRequest.__init__\u001b[39m\u001b[34m(self, uri, mode, extension, format_hint, **kwargs)\u001b[39m\n\u001b[32m    246\u001b[39m     \u001b[38;5;28;01mraise\u001b[39;00m \u001b[38;5;167;01mValueError\u001b[39;00m(\u001b[33mf\u001b[39m\u001b[33m\"\u001b[39m\u001b[33mInvalid Request.Mode: \u001b[39m\u001b[38;5;132;01m{\u001b[39;00mmode\u001b[38;5;132;01m}\u001b[39;00m\u001b[33m\"\u001b[39m)\n\u001b[32m    248\u001b[39m \u001b[38;5;66;03m# Parse what was given\u001b[39;00m\n\u001b[32m--> \u001b[39m\u001b[32m249\u001b[39m \u001b[38;5;28;43mself\u001b[39;49m\u001b[43m.\u001b[49m\u001b[43m_parse_uri\u001b[49m\u001b[43m(\u001b[49m\u001b[43muri\u001b[49m\u001b[43m)\u001b[49m\n\u001b[32m    251\u001b[39m \u001b[38;5;66;03m# Set extension\u001b[39;00m\n\u001b[32m    252\u001b[39m \u001b[38;5;28;01mif\u001b[39;00m extension \u001b[38;5;129;01mis\u001b[39;00m \u001b[38;5;129;01mnot\u001b[39;00m \u001b[38;5;28;01mNone\u001b[39;00m:\n",
      "\u001b[36mFile \u001b[39m\u001b[32m~\\AppData\\Roaming\\Python\\Python312\\site-packages\\imageio\\core\\request.py:409\u001b[39m, in \u001b[36mRequest._parse_uri\u001b[39m\u001b[34m(self, uri)\u001b[39m\n\u001b[32m    406\u001b[39m \u001b[38;5;28;01mif\u001b[39;00m is_read_request:\n\u001b[32m    407\u001b[39m     \u001b[38;5;66;03m# Reading: check that the file exists (but is allowed a dir)\u001b[39;00m\n\u001b[32m    408\u001b[39m     \u001b[38;5;28;01mif\u001b[39;00m \u001b[38;5;129;01mnot\u001b[39;00m os.path.exists(fn):\n\u001b[32m--> \u001b[39m\u001b[32m409\u001b[39m         \u001b[38;5;28;01mraise\u001b[39;00m \u001b[38;5;167;01mFileNotFoundError\u001b[39;00m(\u001b[33m\"\u001b[39m\u001b[33mNo such file: \u001b[39m\u001b[33m'\u001b[39m\u001b[38;5;132;01m%s\u001b[39;00m\u001b[33m'\u001b[39m\u001b[33m\"\u001b[39m % fn)\n\u001b[32m    410\u001b[39m \u001b[38;5;28;01melse\u001b[39;00m:\n\u001b[32m    411\u001b[39m     \u001b[38;5;66;03m# Writing: check that the directory to write to does exist\u001b[39;00m\n\u001b[32m    412\u001b[39m     dn = os.path.dirname(fn)\n",
      "\u001b[31mFileNotFoundError\u001b[39m: No such file: 'c:\\Users\\wiebk\\OneDrive\\Dokumente\\Studium\\Konstanz\\Sem_7\\2D\\Übung\\2D_Computergrafik_2025\\Abschlussprojekt_Tic_Tac_Toe\\O_1.png'"
     ]
    }
   ],
   "source": [
    "import numpy as np\n",
    "from skimage import io, color, filters, morphology, feature, transform\n",
    "from skimage.transform import hough_circle, hough_circle_peaks, probabilistic_hough_line\n",
    "import math\n",
    "import matplotlib.pyplot as plt\n",
    "from matplotlib.patches import Rectangle\n",
    "\n",
    "# --- 1. Vorverarbeitung ---\n",
    "def load_and_preprocess(path, sigma=1.0, min_size=150):\n",
    "    img = io.imread(path)\n",
    "    # --- Alpha-Kanal entfernen, falls vorhanden ---\n",
    "    if img.ndim == 3 and img.shape[2] == 4:\n",
    "        # Variante A: einfach Alpha wegwerfen\n",
    "        img = img[..., :3]\n",
    "        # Oder Variante B: korrekt mischen\n",
    "        # from skimage.color import rgba2rgb\n",
    "        # img = rgba2rgb(img)\n",
    "\n",
    "    # in Float [0,1] umwandeln\n",
    "    img = img / 255.0 if img.dtype != np.float64 else img\n",
    "\n",
    "    # Graustufen\n",
    "    gray = color.rgb2gray(img)\n",
    "    # Rest wie gehabt\n",
    "    blurred = filters.gaussian(gray, sigma=sigma)\n",
    "    thresh  = filters.threshold_otsu(blurred)\n",
    "    binary  = blurred > thresh\n",
    "    clean   = morphology.remove_small_objects(binary, min_size=min_size)\n",
    "    return img, clean\n",
    "\n",
    "# --- 2. O-Erkennung via HoughCircles ---\n",
    "def detect_Os(binary, radii_range=(20,50,2), total_peaks=10):\n",
    "    radii = np.arange(*radii_range)\n",
    "    hough_res = hough_circle(binary, radii)\n",
    "    accums, cx, cy, rad = hough_circle_peaks(\n",
    "        hough_res, radii,\n",
    "        total_num_peaks=total_peaks,\n",
    "        min_xdistance=int(radii_range[0]/2),\n",
    "        min_ydistance=int(radii_range[0]/2)\n",
    "    )\n",
    "    # Rückgabe: Liste von (x_center, y_center, radius)\n",
    "    return list(zip(cx, cy, rad))\n",
    "\n",
    "# --- 3. X-Erkennung via gekreuzte Linien ---\n",
    "def detect_Xs(binary, line_length=50, line_gap=3, angle_tol=15):\n",
    "    edges = feature.canny(binary, sigma=2)\n",
    "    lines = probabilistic_hough_line(edges,\n",
    "                                     threshold=10,\n",
    "                                     line_length=line_length,\n",
    "                                     line_gap=line_gap)\n",
    "\n",
    "    pos, neg = [], []\n",
    "    for (p0, p1) in lines:\n",
    "        dy, dx = (p1[1]-p0[1], p1[0]-p0[0])\n",
    "        angle = math.degrees(math.atan2(dy, dx))\n",
    "        if angle > 90: angle -= 180\n",
    "        if abs(angle - 45) < angle_tol:\n",
    "            pos.append((p0,p1))\n",
    "        elif abs(angle + 45) < angle_tol:\n",
    "            neg.append((p0,p1))\n",
    "\n",
    "    crosses = []\n",
    "    for l1 in pos:\n",
    "        for l2 in neg:\n",
    "            (x1,y1),(x2,y2) = l1\n",
    "            (x3,y3),(x4,y4) = l2\n",
    "            denom = (x1-x2)*(y3-y4) - (y1-y2)*(x3-x4)\n",
    "            if denom == 0: continue\n",
    "            px = ((x1*y2 - y1*x2)*(x3-x4) - (x1-x2)*(x3*y4 - y3*x4)) / denom\n",
    "            py = ((x1*y2 - y1*x2)*(y3-y4) - (y1-y2)*(x3*y4 - y3*x4)) / denom\n",
    "            crosses.append((px, py))\n",
    "    # Rückgabe: Liste von (x_cross, y_cross)\n",
    "    return crosses\n",
    "\n",
    "# --- 4. Zusammenspiel und Darstellung ---\n",
    "def detect_and_draw(path):\n",
    "    img, binary = load_and_preprocess(path)\n",
    "    circles = detect_Os(binary)\n",
    "    crosses = detect_Xs(binary)\n",
    "\n",
    "    # Ergebnis-Liste ausgeben\n",
    "    print(\"Gefundene O’s (x, y, r):\", circles)\n",
    "    print(\"Gefundene X’s (x, y):\", crosses)\n",
    "\n",
    "    # Visualisierung\n",
    "    fig, ax = plt.subplots(1,1, figsize=(6,6))\n",
    "    ax.imshow(img)\n",
    "    ax.set_axis_off()\n",
    "\n",
    "    # 5. Bounding Boxes zeichnen\n",
    "    # Für O: Quadrat um Kreis\n",
    "    for (x,y,r) in circles:\n",
    "        side = r*1.5  # etwas größer als Durchmesser\n",
    "        rect = Rectangle(\n",
    "            (x-side/2, y-side/2),   # linke obere Ecke\n",
    "            side, side,             # Breite, Höhe\n",
    "            linewidth=2,\n",
    "            edgecolor='red',\n",
    "            facecolor='none'\n",
    "        )\n",
    "        ax.add_patch(rect)\n",
    "\n",
    "    # Für X: fixen Box-Size um Kreuz-Mittelpunkt\n",
    "    box_size = 40\n",
    "    for (x,y) in crosses:\n",
    "        rect = Rectangle(\n",
    "            (x-box_size/2, y-box_size/2),\n",
    "            box_size, box_size,\n",
    "            linewidth=2,\n",
    "            edgecolor='red',\n",
    "            facecolor='none'\n",
    "        )\n",
    "        ax.add_patch(rect)\n",
    "\n",
    "    plt.tight_layout()\n",
    "    plt.show()\n",
    "\n",
    "if __name__ == \"__main__\":\n",
    "    detect_and_draw(\"O_1.png\")"
   ]
  },
  {
   "cell_type": "code",
   "execution_count": null,
   "id": "a3748a57",
   "metadata": {},
   "outputs": [],
   "source": []
  },
  {
   "cell_type": "markdown",
   "id": "7cecb8c4",
   "metadata": {},
   "source": [
    "Schritt zwei Processing Pipeline je Bild"
   ]
  },
  {
   "cell_type": "code",
   "execution_count": null,
   "id": "96d4e145",
   "metadata": {},
   "outputs": [],
   "source": []
  },
  {
   "cell_type": "markdown",
   "id": "967a5d2f",
   "metadata": {},
   "source": [
    "Schleife für alle Bilder"
   ]
  },
  {
   "cell_type": "code",
   "execution_count": 2,
   "id": "30ad74d7",
   "metadata": {},
   "outputs": [
    {
     "ename": "NameError",
     "evalue": "name 'paths' is not defined",
     "output_type": "error",
     "traceback": [
      "\u001b[31m---------------------------------------------------------------------------\u001b[39m",
      "\u001b[31mNameError\u001b[39m                                 Traceback (most recent call last)",
      "\u001b[36mCell\u001b[39m\u001b[36m \u001b[39m\u001b[32mIn[2]\u001b[39m\u001b[32m, line 2\u001b[39m\n\u001b[32m      1\u001b[39m results = {}\n\u001b[32m----> \u001b[39m\u001b[32m2\u001b[39m \u001b[38;5;28;01mfor\u001b[39;00m path \u001b[38;5;129;01min\u001b[39;00m \u001b[43mpaths\u001b[49m:\n\u001b[32m      3\u001b[39m     \u001b[38;5;28;01mtry\u001b[39;00m:\n\u001b[32m      4\u001b[39m         grid = process_image(path)\n",
      "\u001b[31mNameError\u001b[39m: name 'paths' is not defined"
     ]
    }
   ],
   "source": [
    "results = {}\n",
    "for path in paths:\n",
    "    try:\n",
    "        grid = process_image(path)\n",
    "        results[os.path.basename(path)] = grid\n",
    "        print(f\"{os.path.basename(path)} → {grid}\")\n",
    "    except Exception as e:\n",
    "        print(f\"Fehler bei {path}: {e}\")\n"
   ]
  },
  {
   "cell_type": "markdown",
   "id": "21e79d13",
   "metadata": {},
   "source": [
    "Mögliche Vorschläge:\n",
    "\n",
    "4. Empfehlungen\n",
    "Modularisieren: Packt jede Funktion in ein eigenes Modul (preprocess.py, grid.py, warp.py, recognition.py), dann importiert ihr sie in main.py.\n",
    "\n",
    "Parameter-Tuning: Führt Tests mit verschiedenen sigma, min_size und Hough-Schwellen durch und protokolliert, was am besten funktioniert.\n",
    "\n",
    "Fehlerbehandlung: Wenn find_grid mal nicht genügend Linien findet, überspringt das Bild oder versucht einen alternativen Ansatz (z. B. Kanten-Dilatation).\n",
    "\n",
    "Batch-Logging: Schreibt in eine Log-Datei, welche Bilder erfolgreich geprocessed wurden und welche fehlschlugen."
   ]
  }
 ],
 "metadata": {
  "kernelspec": {
   "display_name": "Python 3",
   "language": "python",
   "name": "python3"
  },
  "language_info": {
   "codemirror_mode": {
    "name": "ipython",
    "version": 3
   },
   "file_extension": ".py",
   "mimetype": "text/x-python",
   "name": "python",
   "nbconvert_exporter": "python",
   "pygments_lexer": "ipython3",
   "version": "3.12.6"
  }
 },
 "nbformat": 4,
 "nbformat_minor": 5
}
