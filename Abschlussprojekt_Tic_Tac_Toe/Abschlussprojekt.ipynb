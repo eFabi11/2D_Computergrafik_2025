{
 "cells": [
  {
   "cell_type": "markdown",
   "id": "cd2e9c39",
   "metadata": {},
   "source": [
    "Tic Tac Toe Spielstanderkenner"
   ]
  },
  {
   "cell_type": "markdown",
   "id": "bcdcc4de",
   "metadata": {},
   "source": [
    "Ziel dieser Arbeit ist es, dass Bilder eines Tic Tac Toe Spiels eingegeben werden und der Spielstand automatisch erkannt wird. Wenn es einen Gewinner gibt, soll dieser Markiert und ausgegeben werden"
   ]
  },
  {
   "cell_type": "markdown",
   "id": "002ff715",
   "metadata": {},
   "source": [
    "Schritt 1 Bilder einlesen"
   ]
  },
  {
   "cell_type": "code",
   "execution_count": null,
   "id": "ad8e37b9",
   "metadata": {},
   "outputs": [],
   "source": [
    "import os\n",
    "import glob\n",
    "from skimage import io\n",
    "\n",
    "# Pfad zu eurem Bilder-Ordner\n",
    "image_folder = \"data/boards/\"\n",
    "# unterstützte Formate\n",
    "extensions = (\"*.jpg\", \"*.jpeg\", \"*.png\", \"*.bmp\")\n",
    "\n",
    "# Liste aller Bild-Pfade\n",
    "paths = []\n",
    "for ext in extensions:\n",
    "    paths.extend(glob.glob(os.path.join(image_folder, ext)))\n",
    "\n",
    "# Optional: sortieren nach Datum oder Nummer im Dateinamen\n",
    "paths = sorted(paths)\n",
    "\n",
    "print(f\"Gefundene Bilder: {len(paths)}\")\n"
   ]
  },
  {
   "cell_type": "markdown",
   "id": "7cecb8c4",
   "metadata": {},
   "source": [
    "Schritt zwei Processing Pipeline je Bild"
   ]
  },
  {
   "cell_type": "code",
   "execution_count": null,
   "id": "96d4e145",
   "metadata": {},
   "outputs": [],
   "source": [
    "from skimage import color, filters, morphology, transform, feature\n",
    "import numpy as np\n",
    "\n",
    "def preprocess(img):\n",
    "    \"\"\"Graustufen, Glätten, Binarisierung, Rauschen entfernen.\"\"\"\n",
    "    gray    = color.rgb2gray(img)\n",
    "    blurred = filters.gaussian(gray, sigma=1.0)\n",
    "    thresh  = filters.threshold_otsu(blurred)\n",
    "    binary  = blurred > thresh\n",
    "    clean   = morphology.remove_small_objects(binary, min_size=150)\n",
    "    return clean\n",
    "\n",
    "def find_grid(binary):\n",
    "    \"\"\"Kanten → Hough-Linien → vier horizontale + vier vertikale Linien clustern → Ecken.\"\"\"\n",
    "    edges = feature.canny(binary, sigma=2)\n",
    "    # TODO: HoughLinesP implementieren, cluster auf 4+4 Linien\n",
    "    # return corners als Array shape (4,4,2) oder Liste von 16 (x,y)-Paaren\n",
    "    raise NotImplementedError\n",
    "\n",
    "def warp_board(img, corners):\n",
    "    \"\"\"Perspektivische Entzerrung auf quadratisches Board (z.B. 300×300 px).\"\"\"\n",
    "    src = np.array(corners, dtype=np.float32)\n",
    "    dst = np.array([[0,0], [300,0], [300,300], [0,300]], dtype=np.float32)\n",
    "    tform = transform.ProjectiveTransform()\n",
    "    tform.estimate(src, dst)\n",
    "    board = transform.warp(img, tform)\n",
    "    return board\n",
    "\n",
    "def classify_cell(cell):\n",
    "    \"\"\"Erkenne X, O oder leer in einer 100×100-Zelle.\"\"\"\n",
    "    # Kreis-Detektion (HoughCircles) → \"O\"\n",
    "    # Linien-Detektion (HoughLines) → \"X\"\n",
    "    # Sonst: None\n",
    "    raise NotImplementedError\n",
    "\n",
    "def process_image(path):\n",
    "    # 1. Einlesen und in Float [0,1] umwandeln\n",
    "    img_rgb = io.imread(path)\n",
    "    if img_rgb.dtype != np.float64:\n",
    "        img = img_rgb / 255.0\n",
    "    else:\n",
    "        img = img_rgb\n",
    "\n",
    "    # 2. Preprocessing + Grid finden\n",
    "    binary = preprocess(img)\n",
    "    corners = find_grid(binary)\n",
    "\n",
    "    # 3. Warp & Zellen extrahieren\n",
    "    board = warp_board(img, corners)\n",
    "    cell_size = board.shape[0] // 3\n",
    "\n",
    "    grid = []\n",
    "    for i in range(3):\n",
    "        row = []\n",
    "        for j in range(3):\n",
    "            cell = board[\n",
    "                i*cell_size:(i+1)*cell_size,\n",
    "                j*cell_size:(j+1)*cell_size\n",
    "            ]\n",
    "            row.append(classify_cell(cell))\n",
    "        grid.append(row)\n",
    "\n",
    "    return grid\n"
   ]
  },
  {
   "cell_type": "markdown",
   "id": "967a5d2f",
   "metadata": {},
   "source": [
    "Schleife für alle Bilder"
   ]
  },
  {
   "cell_type": "code",
   "execution_count": null,
   "id": "30ad74d7",
   "metadata": {},
   "outputs": [],
   "source": [
    "results = {}\n",
    "for path in paths:\n",
    "    try:\n",
    "        grid = process_image(path)\n",
    "        results[os.path.basename(path)] = grid\n",
    "        print(f\"{os.path.basename(path)} → {grid}\")\n",
    "    except Exception as e:\n",
    "        print(f\"Fehler bei {path}: {e}\")\n"
   ]
  },
  {
   "cell_type": "markdown",
   "id": "21e79d13",
   "metadata": {},
   "source": [
    "Mögliche Vorschläge:\n",
    "\n",
    "4. Empfehlungen\n",
    "Modularisieren: Packt jede Funktion in ein eigenes Modul (preprocess.py, grid.py, warp.py, recognition.py), dann importiert ihr sie in main.py.\n",
    "\n",
    "Parameter-Tuning: Führt Tests mit verschiedenen sigma, min_size und Hough-Schwellen durch und protokolliert, was am besten funktioniert.\n",
    "\n",
    "Fehlerbehandlung: Wenn find_grid mal nicht genügend Linien findet, überspringt das Bild oder versucht einen alternativen Ansatz (z. B. Kanten-Dilatation).\n",
    "\n",
    "Batch-Logging: Schreibt in eine Log-Datei, welche Bilder erfolgreich geprocessed wurden und welche fehlschlugen."
   ]
  }
 ],
 "metadata": {
  "language_info": {
   "name": "python"
  }
 },
 "nbformat": 4,
 "nbformat_minor": 5
}
